{
 "cells": [
  {
   "cell_type": "code",
   "execution_count": 1,
   "id": "39b4203e",
   "metadata": {},
   "outputs": [
    {
     "name": "stderr",
     "output_type": "stream",
     "text": [
      "C:\\Users\\hp\\Documents\\anaconda3\\envs\\taswiyahmn\\lib\\site-packages\\tqdm\\auto.py:21: TqdmWarning: IProgress not found. Please update jupyter and ipywidgets. See https://ipywidgets.readthedocs.io/en/stable/user_install.html\n",
      "  from .autonotebook import tqdm as notebook_tqdm\n"
     ]
    }
   ],
   "source": [
    "import numpy as np\n",
    "import pandas as pd\n",
    "from bs4 import BeautifulSoup\n",
    "import re, string, unicodedata\n",
    "import nltk\n",
    "from nltk.corpus import stopwords\n",
    "from nltk.tokenize import word_tokenize\n",
    "from nltk.stem import PorterStemmer\n",
    "from sklearn.model_selection import train_test_split\n",
    "from transformers import BertModel, BertTokenizer\n",
    "import torch\n",
    "from torch.utils.data import DataLoader\n",
    "from torch.utils.data import Dataset\n",
    "from datasets import Dataset, DatasetDict\n",
    "from transformers import Trainer, TrainingArguments, AdamW, BertForSequenceClassification"
   ]
  },
  {
   "cell_type": "code",
   "execution_count": 2,
   "id": "40bf1c5e",
   "metadata": {},
   "outputs": [],
   "source": [
    "df = pd.read_csv('WELFake_Dataset.csv')"
   ]
  },
  {
   "cell_type": "code",
   "execution_count": 3,
   "id": "f2049be2",
   "metadata": {},
   "outputs": [
    {
     "data": {
      "text/plain": [
       "<bound method NDFrame.describe of      Unnamed: 0                                              title  \\\n",
       "0             0  LAW ENFORCEMENT ON HIGH ALERT Following Threat...   \n",
       "1             1                                                NaN   \n",
       "2             2  UNBELIEVABLE! OBAMA’S ATTORNEY GENERAL SAYS MO...   \n",
       "3             3  Bobby Jindal, raised Hindu, uses story of Chri...   \n",
       "4             4  SATAN 2: Russia unvelis an image of its terrif...   \n",
       "..          ...                                                ...   \n",
       "495         495  Trump ordered to give deposition in Washington...   \n",
       "496         496  Obama’s Race War Makes Its Way To His Hometown...   \n",
       "497         497  FACTBOX: About 6.1 million without power in U....   \n",
       "498         498  OOPS! ABSOLUTELY NO ONE SHOWED UP For NYC Debu...   \n",
       "499         499  Russia warns Iraq, Kurds not to destabilize Mi...   \n",
       "\n",
       "                                                  text  label  \n",
       "0    No comment is expected from Barack Obama Membe...      1  \n",
       "1       Did they post their votes for Hillary already?      1  \n",
       "2     Now, most of the demonstrators gathered last ...      1  \n",
       "3    A dozen politically active pastors came here f...      0  \n",
       "4    The RS-28 Sarmat missile, dubbed Satan 2, will...      1  \n",
       "..                                                 ...    ...  \n",
       "495  WASHINGTON (Reuters) - A Washington judge has ...      0  \n",
       "496  This is insane!WATCH: Protests erupted in Chic...      1  \n",
       "497  (Reuters) - Power outages from Hurricane Irma ...      0  \n",
       "498  I was in Nordstrom yesterday when our salesper...      1  \n",
       "499  MOSCOW (Reuters) - Russia on Wednesday warned ...      0  \n",
       "\n",
       "[500 rows x 4 columns]>"
      ]
     },
     "execution_count": 3,
     "metadata": {},
     "output_type": "execute_result"
    }
   ],
   "source": [
    "df = df.head(500)\n",
    "df.describe"
   ]
  },
  {
   "cell_type": "code",
   "execution_count": 4,
   "id": "dbc4f2e8",
   "metadata": {},
   "outputs": [
    {
     "name": "stdout",
     "output_type": "stream",
     "text": [
      "Before Preprocessing:\n",
      "   Unnamed: 0                                              title  \\\n",
      "0           0  LAW ENFORCEMENT ON HIGH ALERT Following Threat...   \n",
      "1           1                                                NaN   \n",
      "2           2  UNBELIEVABLE! OBAMA’S ATTORNEY GENERAL SAYS MO...   \n",
      "3           3  Bobby Jindal, raised Hindu, uses story of Chri...   \n",
      "4           4  SATAN 2: Russia unvelis an image of its terrif...   \n",
      "\n",
      "                                                text  label  \n",
      "0  No comment is expected from Barack Obama Membe...      1  \n",
      "1     Did they post their votes for Hillary already?      1  \n",
      "2   Now, most of the demonstrators gathered last ...      1  \n",
      "3  A dozen politically active pastors came here f...      0  \n",
      "4  The RS-28 Sarmat missile, dubbed Satan 2, will...      1   \n",
      "\n"
     ]
    }
   ],
   "source": [
    "print(\"Before Preprocessing:\")\n",
    "print(df.head(), \"\\n\")"
   ]
  },
  {
   "cell_type": "code",
   "execution_count": 5,
   "id": "e02f6e00",
   "metadata": {},
   "outputs": [
    {
     "name": "stderr",
     "output_type": "stream",
     "text": [
      "C:\\Users\\hp\\AppData\\Local\\Temp\\ipykernel_23060\\1406373853.py:2: MarkupResemblesLocatorWarning: The input looks more like a filename than markup. You may want to open this file and pass the filehandle into Beautiful Soup.\n",
      "  df['text'] = df['text'].apply(lambda x: BeautifulSoup(x, \"html.parser\").get_text())\n",
      "C:\\Users\\hp\\AppData\\Local\\Temp\\ipykernel_23060\\1406373853.py:2: MarkupResemblesLocatorWarning: The input looks more like a URL than markup. You may want to use an HTTP client like requests to get the document behind the URL, and feed that document to Beautiful Soup.\n",
      "  df['text'] = df['text'].apply(lambda x: BeautifulSoup(x, \"html.parser\").get_text())\n",
      "[nltk_data] Downloading package stopwords to\n",
      "[nltk_data]     C:\\Users\\hp\\AppData\\Roaming\\nltk_data...\n",
      "[nltk_data]   Package stopwords is already up-to-date!\n",
      "[nltk_data] Downloading package punkt to\n",
      "[nltk_data]     C:\\Users\\hp\\AppData\\Roaming\\nltk_data...\n",
      "[nltk_data]   Package punkt is already up-to-date!\n"
     ]
    }
   ],
   "source": [
    "df['text'] = df['text'].astype(str)\n",
    "df['text'] = df['text'].apply(lambda x: BeautifulSoup(x, \"html.parser\").get_text())\n",
    "\n",
    "df['text'] = df['text'].apply(lambda x: re.sub(r\"http\\S+\", \"\", x))\n",
    "\n",
    "df['text'] = df['text'].apply(lambda x: re.sub(r'[^A-Za-z0-9\\s]', '', x))\n",
    "df['text'] = df['text'].apply(lambda x: x.lower())\n",
    "\n",
    "df['text'] = df['text'].apply(lambda x: re.sub(r'\\d+', '', x))\n",
    "\n",
    "df['text'] = df['text'].apply(lambda x: \" \".join(x.split()))\n",
    "\n",
    "nltk.download('stopwords')\n",
    "nltk.download('punkt')\n",
    "\n",
    "stop_words = set(stopwords.words('english'))\n",
    "df['text'] = df['text'].apply(lambda x: \" \".join([word for word in word_tokenize(x) if word.lower() not in stop_words]))\n",
    "\n",
    "stemmer = PorterStemmer()\n",
    "df['text'] = df['text'].apply(lambda x: \" \".join([stemmer.stem(word) for word in x.split()]))\n",
    "\n",
    "df['text'] = df['text'].apply(lambda x: re.sub(r'[^\\x00-\\x7F]+', '', x))"
   ]
  },
  {
   "cell_type": "code",
   "execution_count": 6,
   "id": "6db9f5b8",
   "metadata": {},
   "outputs": [
    {
     "name": "stderr",
     "output_type": "stream",
     "text": [
      "C:\\Users\\hp\\Documents\\anaconda3\\envs\\taswiyahmn\\lib\\site-packages\\seaborn\\_oldcore.py:1498: FutureWarning: is_categorical_dtype is deprecated and will be removed in a future version. Use isinstance(dtype, CategoricalDtype) instead\n",
      "  if pd.api.types.is_categorical_dtype(vector):\n",
      "C:\\Users\\hp\\Documents\\anaconda3\\envs\\taswiyahmn\\lib\\site-packages\\seaborn\\_oldcore.py:1498: FutureWarning: is_categorical_dtype is deprecated and will be removed in a future version. Use isinstance(dtype, CategoricalDtype) instead\n",
      "  if pd.api.types.is_categorical_dtype(vector):\n",
      "C:\\Users\\hp\\Documents\\anaconda3\\envs\\taswiyahmn\\lib\\site-packages\\seaborn\\_oldcore.py:1765: FutureWarning: unique with argument that is not not a Series, Index, ExtensionArray, or np.ndarray is deprecated and will raise in a future version.\n",
      "  order = pd.unique(vector)\n",
      "C:\\Users\\hp\\Documents\\anaconda3\\envs\\taswiyahmn\\lib\\site-packages\\seaborn\\_oldcore.py:1498: FutureWarning: is_categorical_dtype is deprecated and will be removed in a future version. Use isinstance(dtype, CategoricalDtype) instead\n",
      "  if pd.api.types.is_categorical_dtype(vector):\n"
     ]
    },
    {
     "data": {
      "image/png": "[encoded data removed]",
      "text/plain": [
       "<Figure size 1200x500 with 2 Axes>"
      ]
     },
     "metadata": {},
     "output_type": "display_data"
    }
   ],
   "source": [
    "import pandas as pd\n",
    "import matplotlib.pyplot as plt\n",
    "import seaborn as sns\n",
    "\n",
    "df[\"text\"] = df[\"text\"].astype(str).replace(\"nan\", pd.NA)\n",
    "total_before = len(df)\n",
    "df = df.dropna(subset=[\"text\"]).reset_index(drop=True)\n",
    "total_after = len(df)\n",
    "\n",
    "fig, axes = plt.subplots(1, 2, figsize=(12, 5))\n",
    "\n",
    "# Bar chart: Total rows before & after cleaning\n",
    "sns.barplot(x=[\"Before Cleaning\", \"After Cleaning\"], y=[total_before, total_after], ax=axes[0], palette=[\"red\", \"green\"])\n",
    "axes[0].set_title(\"Total Data Points Before vs After Cleaning\")\n",
    "axes[0].set_ylabel(\"Count\")\n",
    "\n",
    "# Pie chart: Percentage of data removed\n",
    "labels = [\"Remaining Data\", \"Removed Data\"]\n",
    "sizes = [total_after, total_before - total_after]\n",
    "colors = [\"blue\", \"orange\"]\n",
    "\n",
    "axes[1].pie(sizes, labels=labels, autopct=\"%1.1f%%\", colors=colors, startangle=90)\n",
    "axes[1].set_title(\"Percentage of Data Retained\")\n",
    "\n",
    "plt.tight_layout()\n",
    "plt.show()"
   ]
  },
  {
   "cell_type": "code",
   "execution_count": 7,
   "id": "9531022c",
   "metadata": {},
   "outputs": [
    {
     "name": "stdout",
     "output_type": "stream",
     "text": [
      "After Preprocessing:\n",
      "   Unnamed: 0                                              title  \\\n",
      "0           0  LAW ENFORCEMENT ON HIGH ALERT Following Threat...   \n",
      "1           1                                                NaN   \n",
      "2           2  UNBELIEVABLE! OBAMA’S ATTORNEY GENERAL SAYS MO...   \n",
      "3           3  Bobby Jindal, raised Hindu, uses story of Chri...   \n",
      "4           4  SATAN 2: Russia unvelis an image of its terrif...   \n",
      "\n",
      "                                                text  label  \n",
      "0  comment expect barack obama member fyf fukyofl...      1  \n",
      "1                          post vote hillari alreadi      1  \n",
      "2  demonstr gather last night exercis constitut p...      1  \n",
      "3  dozen polit activ pastor came privat dinner fr...      0  \n",
      "4  rs sarmat missil dub satan replac ss fli mile ...      1  \n"
     ]
    }
   ],
   "source": [
    "print(\"After Preprocessing:\")\n",
    "print(df.head())"
   ]
  },
  {
   "cell_type": "code",
   "execution_count": 8,
   "id": "745f87e8",
   "metadata": {},
   "outputs": [],
   "source": [
    "# print(type(df.loc[325, \"text\"])) "
   ]
  }
 ],
 "metadata": {
  "kernelspec": {
   "display_name": "Python 3 (ipykernel)",
   "language": "python",
   "name": "python3"
  },
  "language_info": {
   "codemirror_mode": {
    "name": "ipython",
    "version": 3
   },
   "file_extension": ".py",
   "mimetype": "text/x-python",
   "name": "python",
   "nbconvert_exporter": "python",
   "pygments_lexer": "ipython3",
   "version": "3.9.18"
  }
 },
 "nbformat": 4,
 "nbformat_minor": 5
}
