{
 "cells": [
  {
   "cell_type": "code",
   "execution_count": 1,
   "id": "1498d019",
   "metadata": {},
   "outputs": [],
   "source": [
    "import pandas as pd\n",
    "import numpy as np\n",
    "df = pd.read_csv('liptint.csv')"
   ]
  },
  {
   "cell_type": "code",
   "execution_count": 2,
   "id": "a4f517bd",
   "metadata": {},
   "outputs": [
    {
     "data": {
      "text/plain": [
       "(13, 5)"
      ]
     },
     "execution_count": 2,
     "metadata": {},
     "output_type": "execute_result"
    }
   ],
   "source": [
    "df.shape"
   ]
  },
  {
   "cell_type": "code",
   "execution_count": 3,
   "id": "3f7a9f6c",
   "metadata": {},
   "outputs": [
    {
     "data": {
      "text/plain": [
       "0     2\n",
       "1     3\n",
       "2     2\n",
       "3     3\n",
       "4     1\n",
       "5     2\n",
       "6     3\n",
       "7     3\n",
       "8     2\n",
       "9     3\n",
       "10    2\n",
       "11    3\n",
       "12    3\n",
       "Name: C5, dtype: int64"
      ]
     },
     "execution_count": 3,
     "metadata": {},
     "output_type": "execute_result"
    }
   ],
   "source": [
    "kolom_C1 = df['C1']\n",
    "kolom_C2 = df['C2']\n",
    "kolom_C3 = df['C3']\n",
    "kolom_C4 = df['C4']\n",
    "kolom_C5 = df['C5']\n",
    "\n",
    "kolom_C1\n",
    "kolom_C2\n",
    "kolom_C3\n",
    "kolom_C4\n",
    "kolom_C5"
   ]
  },
  {
   "cell_type": "code",
   "execution_count": 4,
   "id": "01d3c7d5",
   "metadata": {},
   "outputs": [
    {
     "data": {
      "text/plain": [
       "1.6305727908424619"
      ]
     },
     "execution_count": 4,
     "metadata": {},
     "output_type": "execute_result"
    }
   ],
   "source": [
    "geometric_C1 = np.prod(kolom_C1) ** (1/len(kolom_C1))\n",
    "geometric_C1"
   ]
  },
  {
   "cell_type": "code",
   "execution_count": 5,
   "id": "a6dcc336",
   "metadata": {},
   "outputs": [
    {
     "data": {
      "text/plain": [
       "2.8185795186937814"
      ]
     },
     "execution_count": 5,
     "metadata": {},
     "output_type": "execute_result"
    }
   ],
   "source": [
    "geometric_C2 = np.prod(kolom_C2) ** (1/len(kolom_C2))\n",
    "geometric_C2"
   ]
  },
  {
   "cell_type": "code",
   "execution_count": 6,
   "id": "e2e3973c",
   "metadata": {},
   "outputs": [
    {
     "data": {
      "text/plain": [
       "2.036571277683617"
      ]
     },
     "execution_count": 6,
     "metadata": {},
     "output_type": "execute_result"
    }
   ],
   "source": [
    "geometric_C3 = np.prod(kolom_C3) ** (1/len(kolom_C3))\n",
    "geometric_C3"
   ]
  },
  {
   "cell_type": "code",
   "execution_count": 7,
   "id": "a2d9dfd3",
   "metadata": {},
   "outputs": [
    {
     "data": {
      "text/plain": [
       "1.7043607928571491"
      ]
     },
     "execution_count": 7,
     "metadata": {},
     "output_type": "execute_result"
    }
   ],
   "source": [
    "geometric_C4 = np.prod(kolom_C4) ** (1/len(kolom_C4))\n",
    "geometric_C4"
   ]
  },
  {
   "cell_type": "code",
   "execution_count": 8,
   "id": "e0babd27",
   "metadata": {},
   "outputs": [
    {
     "data": {
      "text/plain": [
       "2.3588059381234885"
      ]
     },
     "execution_count": 8,
     "metadata": {},
     "output_type": "execute_result"
    }
   ],
   "source": [
    "geometric_C5 = np.prod(kolom_C5) ** (1/len(kolom_C5))\n",
    "geometric_C5"
   ]
  },
  {
   "cell_type": "code",
   "execution_count": 9,
   "id": "8456bb6f",
   "metadata": {},
   "outputs": [
    {
     "data": {
      "text/html": [
       "<div>\n",
       "<style scoped>\n",
       "    .dataframe tbody tr th:only-of-type {\n",
       "        vertical-align: middle;\n",
       "    }\n",
       "\n",
       "    .dataframe tbody tr th {\n",
       "        vertical-align: top;\n",
       "    }\n",
       "\n",
       "    .dataframe thead th {\n",
       "        text-align: right;\n",
       "    }\n",
       "</style>\n",
       "<table border=\"1\" class=\"dataframe\">\n",
       "  <thead>\n",
       "    <tr style=\"text-align: right;\">\n",
       "      <th></th>\n",
       "      <th>C1</th>\n",
       "      <th>C2</th>\n",
       "      <th>C3</th>\n",
       "      <th>C4</th>\n",
       "      <th>C5</th>\n",
       "    </tr>\n",
       "  </thead>\n",
       "  <tbody>\n",
       "    <tr>\n",
       "      <th>0</th>\n",
       "      <td>1</td>\n",
       "      <td>3</td>\n",
       "      <td>3</td>\n",
       "      <td>2</td>\n",
       "      <td>2</td>\n",
       "    </tr>\n",
       "    <tr>\n",
       "      <th>1</th>\n",
       "      <td>3</td>\n",
       "      <td>3</td>\n",
       "      <td>3</td>\n",
       "      <td>2</td>\n",
       "      <td>3</td>\n",
       "    </tr>\n",
       "    <tr>\n",
       "      <th>2</th>\n",
       "      <td>3</td>\n",
       "      <td>3</td>\n",
       "      <td>2</td>\n",
       "      <td>2</td>\n",
       "      <td>2</td>\n",
       "    </tr>\n",
       "    <tr>\n",
       "      <th>3</th>\n",
       "      <td>2</td>\n",
       "      <td>2</td>\n",
       "      <td>2</td>\n",
       "      <td>2</td>\n",
       "      <td>3</td>\n",
       "    </tr>\n",
       "    <tr>\n",
       "      <th>4</th>\n",
       "      <td>2</td>\n",
       "      <td>3</td>\n",
       "      <td>1</td>\n",
       "      <td>2</td>\n",
       "      <td>1</td>\n",
       "    </tr>\n",
       "    <tr>\n",
       "      <th>5</th>\n",
       "      <td>2</td>\n",
       "      <td>3</td>\n",
       "      <td>3</td>\n",
       "      <td>2</td>\n",
       "      <td>2</td>\n",
       "    </tr>\n",
       "    <tr>\n",
       "      <th>6</th>\n",
       "      <td>1</td>\n",
       "      <td>3</td>\n",
       "      <td>2</td>\n",
       "      <td>2</td>\n",
       "      <td>3</td>\n",
       "    </tr>\n",
       "    <tr>\n",
       "      <th>7</th>\n",
       "      <td>1</td>\n",
       "      <td>2</td>\n",
       "      <td>2</td>\n",
       "      <td>2</td>\n",
       "      <td>3</td>\n",
       "    </tr>\n",
       "    <tr>\n",
       "      <th>8</th>\n",
       "      <td>1</td>\n",
       "      <td>3</td>\n",
       "      <td>2</td>\n",
       "      <td>1</td>\n",
       "      <td>2</td>\n",
       "    </tr>\n",
       "    <tr>\n",
       "      <th>9</th>\n",
       "      <td>2</td>\n",
       "      <td>3</td>\n",
       "      <td>2</td>\n",
       "      <td>1</td>\n",
       "      <td>3</td>\n",
       "    </tr>\n",
       "    <tr>\n",
       "      <th>10</th>\n",
       "      <td>2</td>\n",
       "      <td>3</td>\n",
       "      <td>2</td>\n",
       "      <td>1</td>\n",
       "      <td>2</td>\n",
       "    </tr>\n",
       "    <tr>\n",
       "      <th>11</th>\n",
       "      <td>2</td>\n",
       "      <td>3</td>\n",
       "      <td>1</td>\n",
       "      <td>2</td>\n",
       "      <td>3</td>\n",
       "    </tr>\n",
       "    <tr>\n",
       "      <th>12</th>\n",
       "      <td>1</td>\n",
       "      <td>3</td>\n",
       "      <td>3</td>\n",
       "      <td>2</td>\n",
       "      <td>3</td>\n",
       "    </tr>\n",
       "  </tbody>\n",
       "</table>\n",
       "</div>"
      ],
      "text/plain": [
       "    C1  C2  C3  C4  C5\n",
       "0    1   3   3   2   2\n",
       "1    3   3   3   2   3\n",
       "2    3   3   2   2   2\n",
       "3    2   2   2   2   3\n",
       "4    2   3   1   2   1\n",
       "5    2   3   3   2   2\n",
       "6    1   3   2   2   3\n",
       "7    1   2   2   2   3\n",
       "8    1   3   2   1   2\n",
       "9    2   3   2   1   3\n",
       "10   2   3   2   1   2\n",
       "11   2   3   1   2   3\n",
       "12   1   3   3   2   3"
      ]
     },
     "execution_count": 9,
     "metadata": {},
     "output_type": "execute_result"
    }
   ],
   "source": [
    "df"
   ]
  },
  {
   "cell_type": "code",
   "execution_count": 10,
   "id": "d10a244c",
   "metadata": {},
   "outputs": [],
   "source": [
    "# df = df.drop('C1_process', axis=1)\n",
    "# df = df.drop('C1_si', axis=1)\n",
    "# df = df.drop('C2_si', axis=1)"
   ]
  },
  {
   "cell_type": "code",
   "execution_count": 11,
   "id": "9a842faf",
   "metadata": {},
   "outputs": [],
   "source": [
    "# print(df)"
   ]
  },
  {
   "cell_type": "code",
   "execution_count": 12,
   "id": "e6cc3e41",
   "metadata": {},
   "outputs": [
    {
     "name": "stdout",
     "output_type": "stream",
     "text": [
      "    C1  C2  C3  C4  C5  C1_si  C2_si  C3_si  C4_si  C5_si\n",
      "0    1   3   3   2   2    5.5    6.5    6.5    6.0    6.0\n",
      "1    3   3   3   2   3    6.5    6.5    6.5    6.0    6.5\n",
      "2    3   3   2   2   2    6.5    6.5    6.0    6.0    6.0\n",
      "3    2   2   2   2   3    6.0    6.0    6.0    6.0    6.5\n",
      "4    2   3   1   2   1    6.0    6.5    5.5    6.0    5.5\n",
      "5    2   3   3   2   2    6.0    6.5    6.5    6.0    6.0\n",
      "6    1   3   2   2   3    5.5    6.5    6.0    6.0    6.5\n",
      "7    1   2   2   2   3    5.5    6.0    6.0    6.0    6.5\n",
      "8    1   3   2   1   2    5.5    6.5    6.0    5.5    6.0\n",
      "9    2   3   2   1   3    6.0    6.5    6.0    5.5    6.5\n",
      "10   2   3   2   1   2    6.0    6.5    6.0    5.5    6.0\n",
      "11   2   3   1   2   3    6.0    6.5    5.5    6.0    6.5\n",
      "12   1   3   3   2   3    5.5    6.5    6.5    6.0    6.5\n"
     ]
    }
   ],
   "source": [
    "df['C1_si'] = 5 + (0.5 * df['C1'])\n",
    "df['C2_si'] = 5 + (0.5 * df['C2'])\n",
    "df['C3_si'] = 5 + (0.5 * df['C3'])\n",
    "df['C4_si'] = 5 + (0.5 * df['C4'])\n",
    "df['C5_si'] = 5 + (0.5 * df['C5'])\n",
    "print(df)"
   ]
  },
  {
   "cell_type": "code",
   "execution_count": 13,
   "id": "a3cd6cbc",
   "metadata": {},
   "outputs": [],
   "source": [
    "# def perhitungan_matix(row):\n",
    "#     if row['C1_si'] == 5:\n",
    "#         return abs((1 + df['C1_si'] + df['C1_si'])/(1+df['C1_si']))\n",
    "#     elif row['C2_si'] == 6.5:\n",
    "#         return 0\n",
    "    \n",
    "# df['custom_count_result'] = df.apply(lambda row: custom_count(row), axis=1)\n",
    "\n",
    "# # Display the updated DataFrame with the new column\n",
    "# print(df)"
   ]
  },
  {
   "cell_type": "code",
   "execution_count": 14,
   "id": "52cad5d9",
   "metadata": {},
   "outputs": [
    {
     "name": "stdout",
     "output_type": "stream",
     "text": [
      "    C1  C2  C3  C4  C5  C1_si  C2_si  C3_si  C4_si  C5_si  C1_matrix_sejajar  \\\n",
      "0    1   3   3   2   2    5.5    6.5    6.5    6.0    6.0           1.846154   \n",
      "1    3   3   3   2   3    6.5    6.5    6.5    6.0    6.5           1.866667   \n",
      "2    3   3   2   2   2    6.5    6.5    6.0    6.0    6.0           1.866667   \n",
      "3    2   2   2   2   3    6.0    6.0    6.0    6.0    6.5           1.857143   \n",
      "4    2   3   1   2   1    6.0    6.5    5.5    6.0    5.5           1.857143   \n",
      "5    2   3   3   2   2    6.0    6.5    6.5    6.0    6.0           1.857143   \n",
      "6    1   3   2   2   3    5.5    6.5    6.0    6.0    6.5           1.846154   \n",
      "7    1   2   2   2   3    5.5    6.0    6.0    6.0    6.5           1.846154   \n",
      "8    1   3   2   1   2    5.5    6.5    6.0    5.5    6.0           1.846154   \n",
      "9    2   3   2   1   3    6.0    6.5    6.0    5.5    6.5           1.857143   \n",
      "10   2   3   2   1   2    6.0    6.5    6.0    5.5    6.0           1.857143   \n",
      "11   2   3   1   2   3    6.0    6.5    5.5    6.0    6.5           1.857143   \n",
      "12   1   3   3   2   3    5.5    6.5    6.5    6.0    6.5           1.846154   \n",
      "\n",
      "    C2_matrix_sejajar  C3_matrix_sejajar  C4_matrix_sejajar  C5_matrix_sejajar  \n",
      "0            1.866667           1.866667           1.857143           1.857143  \n",
      "1            1.866667           1.866667           1.857143           1.866667  \n",
      "2            1.866667           1.857143           1.857143           1.857143  \n",
      "3            1.857143           1.857143           1.857143           1.866667  \n",
      "4            1.866667           1.846154           1.857143           1.846154  \n",
      "5            1.866667           1.866667           1.857143           1.857143  \n",
      "6            1.866667           1.857143           1.857143           1.866667  \n",
      "7            1.857143           1.857143           1.857143           1.866667  \n",
      "8            1.866667           1.857143           1.846154           1.857143  \n",
      "9            1.866667           1.857143           1.846154           1.866667  \n",
      "10           1.866667           1.857143           1.846154           1.857143  \n",
      "11           1.866667           1.846154           1.857143           1.866667  \n",
      "12           1.866667           1.866667           1.857143           1.866667  \n"
     ]
    }
   ],
   "source": [
    "df['C1_matrix_sejajar'] = abs((1 + df['C1_si'] + df['C1_si'])/(1+df['C1_si']))\n",
    "df['C2_matrix_sejajar'] = abs((1 + df['C2_si'] + df['C2_si'])/(1+df['C2_si']))\n",
    "df['C3_matrix_sejajar'] = abs((1 + df['C3_si'] + df['C3_si'])/(1+df['C3_si']))\n",
    "df['C4_matrix_sejajar'] = abs((1 + df['C4_si'] + df['C4_si'])/(1+df['C4_si']))\n",
    "df['C5_matrix_sejajar'] = abs((1 + df['C5_si'] + df['C5_si'])/(1+df['C5_si']))\n",
    "\n",
    "print(df)"
   ]
  },
  {
   "cell_type": "code",
   "execution_count": 15,
   "id": "e01089d7",
   "metadata": {},
   "outputs": [
    {
     "name": "stdout",
     "output_type": "stream",
     "text": [
      "    C1  C2  C3  C4  C5  C1_si  C2_si  C3_si  C4_si  C5_si  C1_matrix_sejajar  \\\n",
      "0    1   3   3   2   2    5.5    6.5    6.5    6.0    6.0           1.846154   \n",
      "1    3   3   3   2   3    6.5    6.5    6.5    6.0    6.5           1.866667   \n",
      "2    3   3   2   2   2    6.5    6.5    6.0    6.0    6.0           1.866667   \n",
      "3    2   2   2   2   3    6.0    6.0    6.0    6.0    6.5           1.857143   \n",
      "4    2   3   1   2   1    6.0    6.5    5.5    6.0    5.5           1.857143   \n",
      "5    2   3   3   2   2    6.0    6.5    6.5    6.0    6.0           1.857143   \n",
      "6    1   3   2   2   3    5.5    6.5    6.0    6.0    6.5           1.846154   \n",
      "7    1   2   2   2   3    5.5    6.0    6.0    6.0    6.5           1.846154   \n",
      "8    1   3   2   1   2    5.5    6.5    6.0    5.5    6.0           1.846154   \n",
      "9    2   3   2   1   3    6.0    6.5    6.0    5.5    6.5           1.857143   \n",
      "10   2   3   2   1   2    6.0    6.5    6.0    5.5    6.0           1.857143   \n",
      "11   2   3   1   2   3    6.0    6.5    5.5    6.0    6.5           1.857143   \n",
      "12   1   3   3   2   3    5.5    6.5    6.5    6.0    6.5           1.846154   \n",
      "\n",
      "    C2_matrix_sejajar  C3_matrix_sejajar  C4_matrix_sejajar  \\\n",
      "0            1.866667           1.866667           1.857143   \n",
      "1            1.866667           1.866667           1.857143   \n",
      "2            1.866667           1.857143           1.857143   \n",
      "3            1.857143           1.857143           1.857143   \n",
      "4            1.866667           1.846154           1.857143   \n",
      "5            1.866667           1.866667           1.857143   \n",
      "6            1.866667           1.857143           1.857143   \n",
      "7            1.857143           1.857143           1.857143   \n",
      "8            1.866667           1.857143           1.846154   \n",
      "9            1.866667           1.857143           1.846154   \n",
      "10           1.866667           1.857143           1.846154   \n",
      "11           1.866667           1.846154           1.857143   \n",
      "12           1.866667           1.866667           1.857143   \n",
      "\n",
      "    C5_matrix_sejajar   alpha_i  \n",
      "0            1.857143  1.858755  \n",
      "1            1.866667  1.864762  \n",
      "2            1.857143  1.860952  \n",
      "3            1.866667  1.859048  \n",
      "4            1.846154  1.854652  \n",
      "5            1.857143  1.860952  \n",
      "6            1.866667  1.858755  \n",
      "7            1.866667  1.856850  \n",
      "8            1.857143  1.854652  \n",
      "9            1.866667  1.858755  \n",
      "10           1.857143  1.856850  \n",
      "11           1.866667  1.858755  \n",
      "12           1.866667  1.860659  \n"
     ]
    }
   ],
   "source": [
    "# # df = df.drop('alpha_i', axis=1)\n",
    "df['alpha_i'] = (df[['C1_matrix_sejajar', 'C2_matrix_sejajar', 'C3_matrix_sejajar', 'C4_matrix_sejajar', 'C5_matrix_sejajar']].sum(axis=1)) / 5\n",
    "\n",
    "# Display the updated DataFrame with the new columns\n",
    "print(df)"
   ]
  },
  {
   "cell_type": "code",
   "execution_count": 16,
   "id": "c0d04478",
   "metadata": {},
   "outputs": [
    {
     "name": "stdout",
     "output_type": "stream",
     "text": [
      "    C1  C2  C3  C4  C5  C1_si  C2_si  C3_si  C4_si  C5_si  C1_matrix_sejajar  \\\n",
      "0    1   3   3   2   2    5.5    6.5    6.5    6.0    6.0           1.846154   \n",
      "1    3   3   3   2   3    6.5    6.5    6.5    6.0    6.5           1.866667   \n",
      "2    3   3   2   2   2    6.5    6.5    6.0    6.0    6.0           1.866667   \n",
      "3    2   2   2   2   3    6.0    6.0    6.0    6.0    6.5           1.857143   \n",
      "4    2   3   1   2   1    6.0    6.5    5.5    6.0    5.5           1.857143   \n",
      "5    2   3   3   2   2    6.0    6.5    6.5    6.0    6.0           1.857143   \n",
      "6    1   3   2   2   3    5.5    6.5    6.0    6.0    6.5           1.846154   \n",
      "7    1   2   2   2   3    5.5    6.0    6.0    6.0    6.5           1.846154   \n",
      "8    1   3   2   1   2    5.5    6.5    6.0    5.5    6.0           1.846154   \n",
      "9    2   3   2   1   3    6.0    6.5    6.0    5.5    6.5           1.857143   \n",
      "10   2   3   2   1   2    6.0    6.5    6.0    5.5    6.0           1.857143   \n",
      "11   2   3   1   2   3    6.0    6.5    5.5    6.0    6.5           1.857143   \n",
      "12   1   3   3   2   3    5.5    6.5    6.5    6.0    6.5           1.846154   \n",
      "\n",
      "    C2_matrix_sejajar  C3_matrix_sejajar  C4_matrix_sejajar  \\\n",
      "0            1.866667           1.866667           1.857143   \n",
      "1            1.866667           1.866667           1.857143   \n",
      "2            1.866667           1.857143           1.857143   \n",
      "3            1.857143           1.857143           1.857143   \n",
      "4            1.866667           1.846154           1.857143   \n",
      "5            1.866667           1.866667           1.857143   \n",
      "6            1.866667           1.857143           1.857143   \n",
      "7            1.857143           1.857143           1.857143   \n",
      "8            1.866667           1.857143           1.846154   \n",
      "9            1.866667           1.857143           1.846154   \n",
      "10           1.866667           1.857143           1.846154   \n",
      "11           1.866667           1.846154           1.857143   \n",
      "12           1.866667           1.866667           1.857143   \n",
      "\n",
      "    C5_matrix_sejajar   alpha_i  alpha_i_sqrt  \n",
      "0            1.857143  1.858755      1.363361  \n",
      "1            1.866667  1.864762      1.365563  \n",
      "2            1.857143  1.860952      1.364167  \n",
      "3            1.866667  1.859048      1.363469  \n",
      "4            1.846154  1.854652      1.361856  \n",
      "5            1.857143  1.860952      1.364167  \n",
      "6            1.866667  1.858755      1.363361  \n",
      "7            1.866667  1.856850      1.362663  \n",
      "8            1.857143  1.854652      1.361856  \n",
      "9            1.866667  1.858755      1.363361  \n",
      "10           1.857143  1.856850      1.362663  \n",
      "11           1.866667  1.858755      1.363361  \n",
      "12           1.866667  1.860659      1.364060  \n"
     ]
    }
   ],
   "source": [
    "import math\n",
    "\n",
    "# df['alpha_i_sqrt'] = math.sqrt(df['alpha_i'], axis=1)\n",
    "df['alpha_i_sqrt'] = df['alpha_i'].apply(lambda x: math.sqrt(x))\n",
    "print(df)"
   ]
  },
  {
   "cell_type": "code",
   "execution_count": 17,
   "id": "d5a13653",
   "metadata": {},
   "outputs": [
    {
     "name": "stdout",
     "output_type": "stream",
     "text": [
      "    C1  C2  C3  C4  C5  C1_si  C2_si  C3_si  C4_si  C5_si  C1_matrix_sejajar  \\\n",
      "0    1   3   3   2   2    5.5    6.5    6.5    6.0    6.0           1.846154   \n",
      "1    3   3   3   2   3    6.5    6.5    6.5    6.0    6.5           1.866667   \n",
      "2    3   3   2   2   2    6.5    6.5    6.0    6.0    6.0           1.866667   \n",
      "3    2   2   2   2   3    6.0    6.0    6.0    6.0    6.5           1.857143   \n",
      "4    2   3   1   2   1    6.0    6.5    5.5    6.0    5.5           1.857143   \n",
      "5    2   3   3   2   2    6.0    6.5    6.5    6.0    6.0           1.857143   \n",
      "6    1   3   2   2   3    5.5    6.5    6.0    6.0    6.5           1.846154   \n",
      "7    1   2   2   2   3    5.5    6.0    6.0    6.0    6.5           1.846154   \n",
      "8    1   3   2   1   2    5.5    6.5    6.0    5.5    6.0           1.846154   \n",
      "9    2   3   2   1   3    6.0    6.5    6.0    5.5    6.5           1.857143   \n",
      "10   2   3   2   1   2    6.0    6.5    6.0    5.5    6.0           1.857143   \n",
      "11   2   3   1   2   3    6.0    6.5    5.5    6.0    6.5           1.857143   \n",
      "12   1   3   3   2   3    5.5    6.5    6.5    6.0    6.5           1.846154   \n",
      "\n",
      "    C2_matrix_sejajar  C3_matrix_sejajar  C4_matrix_sejajar  \\\n",
      "0            1.866667           1.866667           1.857143   \n",
      "1            1.866667           1.866667           1.857143   \n",
      "2            1.866667           1.857143           1.857143   \n",
      "3            1.857143           1.857143           1.857143   \n",
      "4            1.866667           1.846154           1.857143   \n",
      "5            1.866667           1.866667           1.857143   \n",
      "6            1.866667           1.857143           1.857143   \n",
      "7            1.857143           1.857143           1.857143   \n",
      "8            1.866667           1.857143           1.846154   \n",
      "9            1.866667           1.857143           1.846154   \n",
      "10           1.866667           1.857143           1.846154   \n",
      "11           1.866667           1.846154           1.857143   \n",
      "12           1.866667           1.866667           1.857143   \n",
      "\n",
      "    C5_matrix_sejajar   alpha_i  alpha_i_sqrt  agregat_alternatif  \n",
      "0            1.857143  1.858755      1.363361            3.119782  \n",
      "1            1.866667  1.864762      1.365563            3.244103  \n",
      "2            1.857143  1.860952      1.364167            3.119848  \n",
      "3            1.866667  1.859048      1.363469            3.000512  \n",
      "4            1.846154  1.854652      1.361856            3.000256  \n",
      "5            1.857143  1.860952      1.364167            3.119848  \n",
      "6            1.866667  1.858755      1.363361            3.119782  \n",
      "7            1.866667  1.856850      1.362663            3.000384  \n",
      "8            1.857143  1.854652      1.361856            3.000256  \n",
      "9            1.866667  1.858755      1.363361            3.119782  \n",
      "10           1.857143  1.856850      1.362663            3.000384  \n",
      "11           1.866667  1.858755      1.363361            3.119782  \n",
      "12           1.866667  1.860659      1.364060            3.191884  \n"
     ]
    },
    {
     "name": "stderr",
     "output_type": "stream",
     "text": [
      "C:\\Users\\hp\\AppData\\Local\\Temp\\ipykernel_11296\\3261596587.py:16: FutureWarning: Setting an item of incompatible dtype is deprecated and will raise in a future error of pandas. Value '3.119781602155234' has dtype incompatible with int64, please explicitly cast to a compatible dtype first.\n",
      "  df.at[index, 'agregat_alternatif'] = result\n"
     ]
    }
   ],
   "source": [
    "columns_of_interest = ['C1', 'C2', 'C3', 'C4', 'C5']\n",
    "row_sum_alpha_sqrt = df['alpha_i_sqrt'].sum()\n",
    "penyebut = 1/row_sum_alpha_sqrt\n",
    "df['agregat_alternatif'] = 0\n",
    "\n",
    "for index, row in df.iterrows():\n",
    "    elements = []  # Create an empty list to store the elements for each row\n",
    "    sum_of_row = 0  # Initialize a variable to store the sum of the elements in each row\n",
    "\n",
    "    for column in columns_of_interest:\n",
    "        element = row[column]\n",
    "        elements.append(element ** row_sum_alpha_sqrt)  # Multiply each element by 2 and add it to the list\n",
    "        sum_of_row = sum(elements)  # Add each element to the sum\n",
    "        \n",
    "    result= sum_of_row ** penyebut\n",
    "    df.at[index, 'agregat_alternatif'] = result\n",
    "    \n",
    "print(df)\n",
    "#     print (penyebut)\n",
    "#     print(f\"Row {index}: Doubled Elements: {elements}, Sum: {sum_of_row}, hasil: {result}\")"
   ]
  },
  {
   "cell_type": "code",
   "execution_count": 18,
   "id": "241e940e",
   "metadata": {},
   "outputs": [
    {
     "name": "stderr",
     "output_type": "stream",
     "text": [
      "C:\\Users\\hp\\AppData\\Local\\Temp\\ipykernel_11296\\1474799461.py:10: FutureWarning: Setting an item of incompatible dtype is deprecated and will raise in a future error of pandas. Value '12.871606571880541' has dtype incompatible with int64, please explicitly cast to a compatible dtype first.\n",
      "  df.at[index, 'bobot_rank'] = bobot_rank\n"
     ]
    }
   ],
   "source": [
    "columns_of_interest = ['agregat_alternatif']\n",
    "row_sum_agregat_alternatif = df['agregat_alternatif'].sum()\n",
    "\n",
    "df['bobot_rank'] = 0\n",
    "\n",
    "for index, row in df.iterrows():\n",
    "    element = row['agregat_alternatif']\n",
    "    bobot_rank = row_sum_agregat_alternatif/element\n",
    "    \n",
    "    df.at[index, 'bobot_rank'] = bobot_rank\n",
    "\n",
    "#     print(f\"Row {index}: {element}, hasil: {bobot_rank}\")"
   ]
  },
  {
   "cell_type": "code",
   "execution_count": 19,
   "id": "efbe5515",
   "metadata": {},
   "outputs": [
    {
     "name": "stdout",
     "output_type": "stream",
     "text": [
      "    C1  C2  C3  C4  C5  C1_si  C2_si  C3_si  C4_si  C5_si  C1_matrix_sejajar  \\\n",
      "0    1   3   3   2   2    5.5    6.5    6.5    6.0    6.0           1.846154   \n",
      "1    3   3   3   2   3    6.5    6.5    6.5    6.0    6.5           1.866667   \n",
      "2    3   3   2   2   2    6.5    6.5    6.0    6.0    6.0           1.866667   \n",
      "3    2   2   2   2   3    6.0    6.0    6.0    6.0    6.5           1.857143   \n",
      "4    2   3   1   2   1    6.0    6.5    5.5    6.0    5.5           1.857143   \n",
      "5    2   3   3   2   2    6.0    6.5    6.5    6.0    6.0           1.857143   \n",
      "6    1   3   2   2   3    5.5    6.5    6.0    6.0    6.5           1.846154   \n",
      "7    1   2   2   2   3    5.5    6.0    6.0    6.0    6.5           1.846154   \n",
      "8    1   3   2   1   2    5.5    6.5    6.0    5.5    6.0           1.846154   \n",
      "9    2   3   2   1   3    6.0    6.5    6.0    5.5    6.5           1.857143   \n",
      "10   2   3   2   1   2    6.0    6.5    6.0    5.5    6.0           1.857143   \n",
      "11   2   3   1   2   3    6.0    6.5    5.5    6.0    6.5           1.857143   \n",
      "12   1   3   3   2   3    5.5    6.5    6.5    6.0    6.5           1.846154   \n",
      "\n",
      "    C2_matrix_sejajar  C3_matrix_sejajar  C4_matrix_sejajar  \\\n",
      "0            1.866667           1.866667           1.857143   \n",
      "1            1.866667           1.866667           1.857143   \n",
      "2            1.866667           1.857143           1.857143   \n",
      "3            1.857143           1.857143           1.857143   \n",
      "4            1.866667           1.846154           1.857143   \n",
      "5            1.866667           1.866667           1.857143   \n",
      "6            1.866667           1.857143           1.857143   \n",
      "7            1.857143           1.857143           1.857143   \n",
      "8            1.866667           1.857143           1.846154   \n",
      "9            1.866667           1.857143           1.846154   \n",
      "10           1.866667           1.857143           1.846154   \n",
      "11           1.866667           1.846154           1.857143   \n",
      "12           1.866667           1.866667           1.857143   \n",
      "\n",
      "    C5_matrix_sejajar   alpha_i  alpha_i_sqrt  agregat_alternatif  bobot_rank  \\\n",
      "0            1.857143  1.858755      1.363361            3.119782   12.871607   \n",
      "1            1.866667  1.864762      1.365563            3.244103   12.378336   \n",
      "2            1.857143  1.860952      1.364167            3.119848   12.871332   \n",
      "3            1.866667  1.859048      1.363469            3.000512   13.383251   \n",
      "4            1.846154  1.854652      1.361856            3.000256   13.384392   \n",
      "5            1.857143  1.860952      1.364167            3.119848   12.871332   \n",
      "6            1.866667  1.858755      1.363361            3.119782   12.871607   \n",
      "7            1.866667  1.856850      1.362663            3.000384   13.383821   \n",
      "8            1.857143  1.854652      1.361856            3.000256   13.384392   \n",
      "9            1.866667  1.858755      1.363361            3.119782   12.871607   \n",
      "10           1.857143  1.856850      1.362663            3.000384   13.383821   \n",
      "11           1.866667  1.858755      1.363361            3.119782   12.871607   \n",
      "12           1.866667  1.860659      1.364060            3.191884   12.580847   \n",
      "\n",
      "    rank  \n",
      "0    6.5  \n",
      "1    1.0  \n",
      "2    3.5  \n",
      "3    9.0  \n",
      "4   12.5  \n",
      "5    3.5  \n",
      "6    6.5  \n",
      "7   10.5  \n",
      "8   12.5  \n",
      "9    6.5  \n",
      "10  10.5  \n",
      "11   6.5  \n",
      "12   2.0  \n"
     ]
    }
   ],
   "source": [
    "df['rank'] = df['bobot_rank'].rank()\n",
    "print(df)"
   ]
  },
  {
   "cell_type": "code",
   "execution_count": 20,
   "id": "7dacd604",
   "metadata": {},
   "outputs": [
    {
     "name": "stdout",
     "output_type": "stream",
     "text": [
      "    C1  C2  C3  C4  C5  C1_si  C2_si  C3_si  C4_si  C5_si  C1_matrix_sejajar  \\\n",
      "0    1   3   3   2   2    5.5    6.5    6.5    6.0    6.0           1.846154   \n",
      "1    3   3   3   2   3    6.5    6.5    6.5    6.0    6.5           1.866667   \n",
      "2    3   3   2   2   2    6.5    6.5    6.0    6.0    6.0           1.866667   \n",
      "3    2   2   2   2   3    6.0    6.0    6.0    6.0    6.5           1.857143   \n",
      "4    2   3   1   2   1    6.0    6.5    5.5    6.0    5.5           1.857143   \n",
      "5    2   3   3   2   2    6.0    6.5    6.5    6.0    6.0           1.857143   \n",
      "6    1   3   2   2   3    5.5    6.5    6.0    6.0    6.5           1.846154   \n",
      "7    1   2   2   2   3    5.5    6.0    6.0    6.0    6.5           1.846154   \n",
      "8    1   3   2   1   2    5.5    6.5    6.0    5.5    6.0           1.846154   \n",
      "9    2   3   2   1   3    6.0    6.5    6.0    5.5    6.5           1.857143   \n",
      "10   2   3   2   1   2    6.0    6.5    6.0    5.5    6.0           1.857143   \n",
      "11   2   3   1   2   3    6.0    6.5    5.5    6.0    6.5           1.857143   \n",
      "12   1   3   3   2   3    5.5    6.5    6.5    6.0    6.5           1.846154   \n",
      "\n",
      "    C2_matrix_sejajar  C3_matrix_sejajar  C4_matrix_sejajar  \\\n",
      "0            1.866667           1.866667           1.857143   \n",
      "1            1.866667           1.866667           1.857143   \n",
      "2            1.866667           1.857143           1.857143   \n",
      "3            1.857143           1.857143           1.857143   \n",
      "4            1.866667           1.846154           1.857143   \n",
      "5            1.866667           1.866667           1.857143   \n",
      "6            1.866667           1.857143           1.857143   \n",
      "7            1.857143           1.857143           1.857143   \n",
      "8            1.866667           1.857143           1.846154   \n",
      "9            1.866667           1.857143           1.846154   \n",
      "10           1.866667           1.857143           1.846154   \n",
      "11           1.866667           1.846154           1.857143   \n",
      "12           1.866667           1.866667           1.857143   \n",
      "\n",
      "    C5_matrix_sejajar   alpha_i  alpha_i_sqrt  agregat_alternatif  bobot_rank  \\\n",
      "0            1.857143  1.858755      1.363361            3.119782   12.871607   \n",
      "1            1.866667  1.864762      1.365563            3.244103   12.378336   \n",
      "2            1.857143  1.860952      1.364167            3.119848   12.871332   \n",
      "3            1.866667  1.859048      1.363469            3.000512   13.383251   \n",
      "4            1.846154  1.854652      1.361856            3.000256   13.384392   \n",
      "5            1.857143  1.860952      1.364167            3.119848   12.871332   \n",
      "6            1.866667  1.858755      1.363361            3.119782   12.871607   \n",
      "7            1.866667  1.856850      1.362663            3.000384   13.383821   \n",
      "8            1.857143  1.854652      1.361856            3.000256   13.384392   \n",
      "9            1.866667  1.858755      1.363361            3.119782   12.871607   \n",
      "10           1.857143  1.856850      1.362663            3.000384   13.383821   \n",
      "11           1.866667  1.858755      1.363361            3.119782   12.871607   \n",
      "12           1.866667  1.860659      1.364060            3.191884   12.580847   \n",
      "\n",
      "    rank  \n",
      "0      6  \n",
      "1      1  \n",
      "2      3  \n",
      "3      9  \n",
      "4     12  \n",
      "5      3  \n",
      "6      6  \n",
      "7     10  \n",
      "8     12  \n",
      "9      6  \n",
      "10    10  \n",
      "11     6  \n",
      "12     2  \n"
     ]
    }
   ],
   "source": [
    "#convert to int\n",
    "df['rank'] = df['rank'].astype(int)\n",
    "print(df)"
   ]
  },
  {
   "cell_type": "code",
   "execution_count": null,
   "id": "db2717d4",
   "metadata": {},
   "outputs": [],
   "source": []
  }
 ],
 "metadata": {
  "kernelspec": {
   "display_name": "Python 3 (ipykernel)",
   "language": "python",
   "name": "python3"
  },
  "language_info": {
   "codemirror_mode": {
    "name": "ipython",
    "version": 3
   },
   "file_extension": ".py",
   "mimetype": "text/x-python",
   "name": "python",
   "nbconvert_exporter": "python",
   "pygments_lexer": "ipython3",
   "version": "3.9.18"
  }
 },
 "nbformat": 4,
 "nbformat_minor": 5
}
